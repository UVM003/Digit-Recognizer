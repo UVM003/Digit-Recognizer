{
 "cells": [
  {
   "cell_type": "code",
   "execution_count": 3,
   "id": "0c6e128b",
   "metadata": {},
   "outputs": [],
   "source": [
    "import pygame as py\n",
    "import sys\n",
    "import numpy as np\n",
    "from pygame.locals import *\n",
    "from keras.models import load_model\n",
    "import cv2\n"
   ]
  },
  {
   "cell_type": "code",
   "execution_count": null,
   "id": "5913a8b5",
   "metadata": {},
   "outputs": [],
   "source": []
  },
  {
   "cell_type": "code",
   "execution_count": 4,
   "id": "07654309",
   "metadata": {},
   "outputs": [],
   "source": [
    "#initialize our pygame\n",
    "py.init()\n",
    "FONT=py.font.Font(\"FreeSansBold.ttf\",18)\n",
    "WINX=840\n",
    "WINY=680\n",
    "\n",
    "WHITE=(255,255,255)\n",
    "BLACK=(0,0,0)\n",
    "RED=(255,0,0)\n",
    "\n",
    "IMAGESAVE=False\n",
    "\n",
    "iswriting=False\n",
    "\n",
    "boundary=5\n",
    "\n",
    "img_cnt=1\n",
    "\n",
    "PREDICT=True\n",
    "\n",
    "n_xcord=[]\n",
    "n_ycord=[]\n",
    "\n",
    "MODEL=load_model(\"MCDC2.h5\")\n",
    "\n",
    "LABELS={0:\"ZERO\",1:\"ONE\",2:\"TWO\",3:\"THREE\",4:\"FOUR\",5:\"FIVE\",6:\"SIX\",7:\"SEVEN\",8:\"EIGHT\",9:\"NINE\"}\n",
    "\n",
    "DisSur=py.display.set_mode((WINX,WINY))\n",
    "\n",
    "py.display.set_caption(\"Digit Board\")"
   ]
  },
  {
   "cell_type": "code",
   "execution_count": 5,
   "id": "ebee2888",
   "metadata": {
    "scrolled": true
   },
   "outputs": [
    {
     "name": "stdout",
     "output_type": "stream",
     "text": [
      "1/1 [==============================] - 0s 339ms/step\n",
      "1/1 [==============================] - 0s 41ms/step\n",
      "1/1 [==============================] - 0s 26ms/step\n",
      "1/1 [==============================] - 0s 36ms/step\n",
      "1/1 [==============================] - 0s 31ms/step\n"
     ]
    },
    {
     "ename": "SystemExit",
     "evalue": "",
     "output_type": "error",
     "traceback": [
      "An exception has occurred, use %tb to see the full traceback.\n",
      "\u001b[1;31mSystemExit\u001b[0m\n"
     ]
    },
    {
     "name": "stderr",
     "output_type": "stream",
     "text": [
      "C:\\Users\\Admin\\anaconda3\\Lib\\site-packages\\IPython\\core\\interactiveshell.py:3534: UserWarning: To exit: use 'exit', 'quit', or Ctrl-D.\n",
      "  warn(\"To exit: use 'exit', 'quit', or Ctrl-D.\", stacklevel=1)\n"
     ]
    }
   ],
   "source": [
    "while True:\n",
    "    for event in py.event.get():\n",
    "        if event.type==QUIT:\n",
    "            py.quit()\n",
    "            sys.exit()\n",
    "            \n",
    "        if event.type == MOUSEMOTION and iswriting:\n",
    "            xcord,ycord = event.pos\n",
    "            py.draw.circle(DisSur,WHITE,(xcord,ycord),4,0)\n",
    "            n_xcord.append(xcord)\n",
    "            n_ycord.append(ycord)\n",
    "            \n",
    "        if event.type == MOUSEBUTTONDOWN:\n",
    "            iswriting = True\n",
    "        \n",
    "        if event.type == MOUSEBUTTONUP:\n",
    "            iswriting=False\n",
    "            if n_xcord and n_ycord:\n",
    "                n_xcord=sorted(n_xcord)\n",
    "                n_ycord=sorted(n_ycord)\n",
    "                rect_min_x = max(n_xcord[0] - boundary, 0)\n",
    "                rect_min_y = max(n_ycord[0] - boundary, 0)\n",
    "                rect_max_x = min(n_xcord[-1] + boundary, WINX - 1)  # Adjusted to avoid index out of bounds\n",
    "                rect_max_y = min(n_ycord[-1] + boundary, WINY - 1) \n",
    "                n_xcord=[]\n",
    "                n_ycord=[]\n",
    "            \n",
    "                img_arr=np.array(py.PixelArray(DisSur))[rect_min_x:rect_max_x,rect_min_y:rect_max_y].T.astype(np.float32)\n",
    "            \n",
    "            if IMAGESAVE:\n",
    "                cv2.imwrite(\"image.png\", img_arr) \n",
    "                image_cnt+=1\n",
    "                \n",
    "            if PREDICT:\n",
    "                \n",
    "                image=cv2.resize(img_arr,(28,28))\n",
    "                image=np.pad(image,(10,10),'constant',constant_values=0)\n",
    "                image=cv2.resize(image,(28,28))/255\n",
    "                \n",
    "                label=str(LABELS[np.argmax(MODEL.predict(image.reshape(1,784)))])\n",
    "                \n",
    "                textsurface = FONT.render(label,True,RED,WHITE)\n",
    "                textRecobj=textsurface.get_rect()\n",
    "                textRecobj.left,textRecobj.bottom=rect_min_x,rect_max_y\n",
    "                \n",
    "                DisSur.blit(textsurface,textRecobj)\n",
    "                \n",
    "        if event.type == KEYDOWN:\n",
    "            if event.unicode==\"n\":\n",
    "                DisSur.fill(BLACK)\n",
    "    \n",
    "    py.display.update()\n",
    "         \n",
    "            "
   ]
  },
  {
   "cell_type": "code",
   "execution_count": null,
   "id": "755e7e00",
   "metadata": {},
   "outputs": [],
   "source": []
  }
 ],
 "metadata": {
  "kernelspec": {
   "display_name": "Python 3 (ipykernel)",
   "language": "python",
   "name": "python3"
  },
  "language_info": {
   "codemirror_mode": {
    "name": "ipython",
    "version": 3
   },
   "file_extension": ".py",
   "mimetype": "text/x-python",
   "name": "python",
   "nbconvert_exporter": "python",
   "pygments_lexer": "ipython3",
   "version": "3.11.5"
  }
 },
 "nbformat": 4,
 "nbformat_minor": 5
}
